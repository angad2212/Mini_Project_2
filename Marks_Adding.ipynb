{
  "nbformat": 4,
  "nbformat_minor": 0,
  "metadata": {
    "colab": {
      "provenance": [],
      "authorship_tag": "ABX9TyOZ41XhRsPU0xAKUyc5wLS7",
      "include_colab_link": true
    },
    "kernelspec": {
      "name": "python3",
      "display_name": "Python 3"
    },
    "language_info": {
      "name": "python"
    }
  },
  "cells": [
    {
      "cell_type": "markdown",
      "metadata": {
        "id": "view-in-github",
        "colab_type": "text"
      },
      "source": [
        "<a href=\"https://colab.research.google.com/github/angad2212/Mini_Project_2/blob/main/Marks_Adding.ipynb\" target=\"_parent\"><img src=\"https://colab.research.google.com/assets/colab-badge.svg\" alt=\"Open In Colab\"/></a>"
      ]
    },
    {
      "cell_type": "code",
      "source": [
        "fp=open('data11.txt')\t\t\n",
        "for line in fp:\n",
        "  print (line.strip())\n",
        "fp2.close() \t\t   "
      ],
      "metadata": {
        "colab": {
          "base_uri": "https://localhost:8080/"
        },
        "id": "W6LrCJfmtvhb",
        "outputId": "987f4c6a-960a-4283-96de-545fa5bd9d17"
      },
      "execution_count": 31,
      "outputs": [
        {
          "output_type": "stream",
          "name": "stdout",
          "text": [
            "Roll Num\tMarks\n",
            "102206001\t1\n",
            "102206025\t1\n",
            "102206010\t2\n",
            "102206012\t1\n",
            "102206025\t1\n",
            "102206020\t1\n",
            "102206024\t2\n",
            "102206025\t2\n",
            "102206018\t1\n",
            "102206012\t2\n",
            "102206025\t1\n"
          ]
        }
      ]
    },
    {
      "cell_type": "code",
      "source": [
        "def marks_adding(input_file, output_file): #function taking 2 arguments\n",
        "    roll_marks = {}  # Dictionary to store roll numbers as keys and aggregated marks as values\n",
        "\n",
        "    # Read input file and adds marks\n",
        "    with open(input_file, 'r') as file:\n",
        "        next(file) #important for marks = int(marks)\n",
        "        \n",
        "        for line in file:\n",
        "            roll_number, marks = line.strip().split('\\t')  # As roll number and marks are separated by a tab ('\\t')\n",
        "            #assigns the result to roll_number and marks.\n",
        "            #if the file was comma seperated we would have used split('csv')\n",
        "            marks = int(marks) #conversion to an integer\n",
        "            \n",
        "            #checking if the roll number already exists in the dictionary 'roll_marks'\n",
        "            if roll_number in roll_marks:\n",
        "                roll_marks[roll_number] += marks\n",
        "            else:\n",
        "                roll_marks[roll_number] = marks\n",
        "\n",
        "    # Write added data to output file\n",
        "    with open(output_file, 'w') as file:\n",
        "        for roll_number, marks in roll_marks.items():\n",
        "            file.write(f\"{roll_number}\\t{marks}\\n\")\n",
        "\n",
        "    print(f\"Input file '{output_file}' has been updated and the Output file '{input_file} contains the updated data\")\n",
        "\n",
        "input_file = 'data11.txt'  \n",
        "output_file = 'data21.txt'  \n",
        "marks_adding(input_file, output_file)"
      ],
      "metadata": {
        "colab": {
          "base_uri": "https://localhost:8080/"
        },
        "id": "YHfQadWOxzDA",
        "outputId": "11d18787-4ecb-4649-b1ef-37188d5ae131"
      },
      "execution_count": 38,
      "outputs": [
        {
          "output_type": "stream",
          "name": "stdout",
          "text": [
            "Input file 'data21.txt' has been updated and the Output file 'data11.txt contains the updated data\n"
          ]
        }
      ]
    },
    {
      "cell_type": "code",
      "source": [
        "fp2=open('data21.txt')\t\t\n",
        "for line in fp2: \t\t    \n",
        "\tprint (line.strip())\n",
        "fp2.close()"
      ],
      "metadata": {
        "colab": {
          "base_uri": "https://localhost:8080/"
        },
        "id": "lCr_1ayLrIW-",
        "outputId": "1e240770-3f72-48ab-d811-54f91f362f83"
      },
      "execution_count": 35,
      "outputs": [
        {
          "output_type": "stream",
          "name": "stdout",
          "text": [
            "102206001\t1\n",
            "102206025\t5\n",
            "102206010\t2\n",
            "102206012\t3\n",
            "102206020\t1\n",
            "102206024\t2\n",
            "102206018\t1\n"
          ]
        }
      ]
    }
  ]
}