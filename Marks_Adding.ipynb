{
  "nbformat": 4,
  "nbformat_minor": 0,
  "metadata": {
    "colab": {
      "provenance": [],
      "authorship_tag": "ABX9TyOvSRZpjCABwA+HNY7oIX1I",
      "include_colab_link": true
    },
    "kernelspec": {
      "name": "python3",
      "display_name": "Python 3"
    },
    "language_info": {
      "name": "python"
    }
  },
  "cells": [
    {
      "cell_type": "markdown",
      "metadata": {
        "id": "view-in-github",
        "colab_type": "text"
      },
      "source": [
        "<a href=\"https://colab.research.google.com/github/angad2212/Mini_Project_2/blob/main/Marks_Adding.ipynb\" target=\"_parent\"><img src=\"https://colab.research.google.com/assets/colab-badge.svg\" alt=\"Open In Colab\"/></a>"
      ]
    },
    {
      "cell_type": "code",
      "source": [
        "fp=open('data11.txt')\t\t# Open the file in reading mode\n",
        "for line in fp: \t\t    # print line by line\n",
        "\tprint (line.strip())\n",
        "fp.close()"
      ],
      "metadata": {
        "colab": {
          "base_uri": "https://localhost:8080/"
        },
        "id": "W6LrCJfmtvhb",
        "outputId": "692da4fc-fc3c-43f2-aa7f-715bba483ed7"
      },
      "execution_count": 3,
      "outputs": [
        {
          "output_type": "stream",
          "name": "stdout",
          "text": [
            "Roll Num\tMarks\n",
            "102206001\t1\n",
            "102206025\t1\n",
            "102206010\t2\n",
            "102206012\t1\n",
            "102206025\t1\n",
            "102206020\t1\n",
            "102206024\t2\n",
            "102206025\t2\n",
            "102206018\t1\n",
            "102206012\t2\n",
            "102206025\t1\n"
          ]
        }
      ]
    },
    {
      "cell_type": "code",
      "source": [
        "def marks_adding(input_file, output_file): #function taking 2 arguments\n",
        "    roll_marks = {}  # Dictionary to store roll numbers as keys and added marks as the values to the key\n",
        "\n",
        "    # Read input file and aggregate marks\n",
        "    with open(input_file, 'r') as file: #assigning the input file to the variable 'file'\n",
        "        next(file)\n",
        "        \n",
        "        for line in file:\n",
        "            roll_number, marks = line.strip().split('\\t')  # Assuming roll number and marks are separated by a tab ('\\t')\n",
        "            #assigns the result to roll_number and marks.\n",
        "            #if the file was comma seperated we would have used split('csv')\n",
        "            marks = int(marks) #conversion to an integer\n",
        "\n",
        "            #checking if the roll number already exists in the dictionary 'roll_marks'\n",
        "            if roll_number in roll_marks:\n",
        "                roll_marks[roll_number] = roll_marks[roll_number] + marks\n",
        "            else:\n",
        "                roll_marks[roll_number] = marks\n",
        "\n",
        "    # Write aggregated data to output file\n",
        "    with open(output_file, 'w') as file:\n",
        "        for roll_number, marks in roll_marks.items():\n",
        "            file.write(f\"{roll_number}\\t{marks}\\n\")\n",
        "\n",
        "    print(f\"Output file '{output_file}' has been created.\")\n",
        "\n",
        "# Example usage\n",
        "input_file = 'data11.txt'  # Replace with the actual name of your input file\n",
        "output_file = 'data22.txt'  # Replace with your desired output file name\n",
        "\n",
        "marks_adding(input_file, output_file)\n"
      ],
      "metadata": {
        "colab": {
          "base_uri": "https://localhost:8080/"
        },
        "id": "8KgB_9ednu6u",
        "outputId": "161f008a-3872-49d8-b034-54a8abdbe9a2"
      },
      "execution_count": 10,
      "outputs": [
        {
          "output_type": "stream",
          "name": "stdout",
          "text": [
            "Output file 'data22.txt' has been created.\n",
            "data22.txt\n"
          ]
        }
      ]
    },
    {
      "cell_type": "code",
      "source": [
        "fp2=open('data22.txt')\t\t\n",
        "for line in fp2: \t\t    \n",
        "\tprint (line.strip())\n",
        "fp2.close()"
      ],
      "metadata": {
        "colab": {
          "base_uri": "https://localhost:8080/"
        },
        "id": "lCr_1ayLrIW-",
        "outputId": "bb546e8a-c363-44bc-a3e5-af3a288e6d36"
      },
      "execution_count": 11,
      "outputs": [
        {
          "output_type": "stream",
          "name": "stdout",
          "text": [
            "102206001\t1\n",
            "102206025\t5\n",
            "102206010\t2\n",
            "102206012\t3\n",
            "102206020\t1\n",
            "102206024\t2\n",
            "102206018\t1\n"
          ]
        }
      ]
    }
  ]
}